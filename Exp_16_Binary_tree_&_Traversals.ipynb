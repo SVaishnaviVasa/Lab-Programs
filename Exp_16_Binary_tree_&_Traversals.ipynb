{
  "nbformat": 4,
  "nbformat_minor": 0,
  "metadata": {
    "colab": {
      "provenance": [],
      "authorship_tag": "ABX9TyMblfDT7rFTB+IbmcQ25a5P",
      "include_colab_link": true
    },
    "kernelspec": {
      "name": "python3",
      "display_name": "Python 3"
    },
    "language_info": {
      "name": "python"
    }
  },
  "cells": [
    {
      "cell_type": "markdown",
      "metadata": {
        "id": "view-in-github",
        "colab_type": "text"
      },
      "source": [
        "<a href=\"https://colab.research.google.com/github/SVaishnaviVasa/Lab-Programs/blob/main/Exp_16_Binary_tree_%26_Traversals.ipynb\" target=\"_parent\"><img src=\"https://colab.research.google.com/assets/colab-badge.svg\" alt=\"Open In Colab\"/></a>"
      ]
    },
    {
      "cell_type": "code",
      "execution_count": null,
      "metadata": {
        "id": "IwACzwI7_Jf7",
        "colab": {
          "base_uri": "https://localhost:8080/"
        },
        "outputId": "e23e66a1-52b5-4014-e5ba-f975c0f1f142"
      },
      "outputs": [
        {
          "output_type": "stream",
          "name": "stdout",
          "text": [
            "Preorder traversal of binary tree is\n",
            "1\n",
            "2\n",
            "4\n",
            "5\n",
            "3\n",
            "\n",
            "Postorder traversal of binary tree is\n",
            "4\n",
            "5\n",
            "2\n",
            "3\n",
            "1\n",
            "\n",
            "Inorder traversal of binary tree is\n",
            "4\n",
            "2\n",
            "5\n",
            "1\n",
            "3\n"
          ]
        }
      ],
      "source": [
        "# binary tree traversals\n",
        "# Binary Tree\n",
        "class Node:\n",
        "    def __init__(self, key):\n",
        "        self.left = None\n",
        "        self.right = None\n",
        "        self.val = key\n",
        "\n",
        "#function to do preorder tree traversal\n",
        "def printPreorder(root):\n",
        "    if root:\n",
        "        #root/parent node\n",
        "        print(root.val)\n",
        "        # left child\n",
        "        printPreorder(root.left)\n",
        "        # right child\n",
        "        printPreorder(root.right)\n",
        "\n",
        "# A function to do inorder tree traversal \n",
        "def printInorder(root):\n",
        "    if root:\n",
        "        # left child\n",
        "        printInorder(root.left)\n",
        "        # root/parent node\n",
        "        print(root.val)\n",
        "        #right child\n",
        "        printInorder(root.right)\n",
        "\n",
        "# A function to do postorder tree traversal\n",
        "def printPostorder(root):\n",
        "    if root:\n",
        "        #left child\n",
        "        printPostorder(root.left)\n",
        "        #right child\n",
        "        printPostorder(root.right)\n",
        "        # root/parent node\n",
        "        print(root.val)\n",
        " \n",
        "\n",
        "if __name__ == \"__main__\":\n",
        "  root = Node(1)\n",
        "  root.left = Node(2)\n",
        "  root.right = Node(3)\n",
        "  root.left.left = Node(4)\n",
        "  root.left.right = Node(5)\n",
        " \n",
        "  # Function call\n",
        "  print (\"Preorder traversal of binary tree is\")\n",
        "  printPreorder(root)\n",
        "  print( \"\\nPostorder traversal of binary tree is\")\n",
        "  printPostorder(root)\n",
        "  print (\"\\nInorder traversal of binary tree is\")\n",
        "  printInorder(root)"
      ]
    }
  ]
}