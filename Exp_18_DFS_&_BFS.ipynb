{
  "nbformat": 4,
  "nbformat_minor": 0,
  "metadata": {
    "colab": {
      "provenance": [],
      "authorship_tag": "ABX9TyPMyIisswMcaPqESFRGt9vy",
      "include_colab_link": true
    },
    "kernelspec": {
      "name": "python3",
      "display_name": "Python 3"
    },
    "language_info": {
      "name": "python"
    }
  },
  "cells": [
    {
      "cell_type": "markdown",
      "metadata": {
        "id": "view-in-github",
        "colab_type": "text"
      },
      "source": [
        "<a href=\"https://colab.research.google.com/github/SVaishnaviVasa/Lab-Programs/blob/main/Exp_18_DFS_%26_BFS.ipynb\" target=\"_parent\"><img src=\"https://colab.research.google.com/assets/colab-badge.svg\" alt=\"Open In Colab\"/></a>"
      ]
    },
    {
      "cell_type": "markdown",
      "source": [
        "## **DEPTH FIRST SEARCH**\n"
      ],
      "metadata": {
        "id": "8j_SmhayRA2U"
      }
    },
    {
      "cell_type": "code",
      "source": [
        "#DEPTH FIRST SEARCH\n",
        "from collections import defaultdict\n",
        " \n",
        "# This class represents a directed graph using adjacency\n",
        "# list representation\n",
        "class Graph:\n",
        " \n",
        "    # Constructor\n",
        "    def __init__(self):\n",
        " \n",
        "        # default dictionary to store graph\n",
        "        self.graph = defaultdict(list)\n",
        " \n",
        "    # function to add an edge to graph\n",
        "    def addEdge(self,u,v):\n",
        "        self.graph[u].append(v)\n",
        " \n",
        "    # A function used by DFS\n",
        "    def DFSUtil(self, v, visited):\n",
        " \n",
        "        # Mark the current node as visited and print it\n",
        "        visited[v]= True\n",
        "        print (v),\n",
        " \n",
        "        # Recur for all the vertices adjacent to\n",
        "        # this vertex\n",
        "        for i in self.graph[v]:\n",
        "            if visited[i] == False:\n",
        "                self.DFSUtil(i, visited)\n",
        " \n",
        " \n",
        "    # The function to do DFS traversal. It uses\n",
        "    # recursive DFSUtil()\n",
        "    def DFS(self):\n",
        "        V = len(self.graph)  #total vertices\n",
        " \n",
        "        # Mark all the vertices as not visited\n",
        "        visited =[False]*(V)\n",
        " \n",
        "        # Call the recursive helper function to print\n",
        "        # DFS traversal starting from all vertices one\n",
        "        # by one\n",
        "        for i in range(V):\n",
        "            if visited[i] == False:\n",
        "                self.DFSUtil(i, visited)\n",
        " \n",
        " \n",
        "# Driver code\n",
        "# Create a graph given in the above diagram\n",
        "g = Graph()\n",
        "g.addEdge(0, 1)\n",
        "g.addEdge(0, 2)\n",
        "g.addEdge(1, 2)\n",
        "g.addEdge(2, 0)\n",
        "g.addEdge(2, 3)\n",
        "g.addEdge(3, 3)\n",
        " \n",
        "print( \"Following is Depth First Traversal\")\n",
        "g.DFS()"
      ],
      "metadata": {
        "colab": {
          "base_uri": "https://localhost:8080/"
        },
        "id": "9am397E7RI9r",
        "outputId": "28c124f7-e6fb-4eee-e69c-f40885a064c8"
      },
      "execution_count": null,
      "outputs": [
        {
          "output_type": "stream",
          "name": "stdout",
          "text": [
            "Following is Depth First Traversal\n",
            "0\n",
            "1\n",
            "2\n",
            "3\n"
          ]
        }
      ]
    },
    {
      "cell_type": "markdown",
      "source": [
        "# **BREADTH FIRST SEARCH**"
      ],
      "metadata": {
        "id": "7B17xzlNRnbb"
      }
    },
    {
      "cell_type": "code",
      "source": [
        "# Python3 Program to print BFS traversal\n",
        "# from a given source vertex. BFS(int s)\n",
        "# traverses vertices reachable from s.\n",
        "from collections import defaultdict\n",
        " \n",
        "# This class represents a directed graph\n",
        "# using adjacency list representation\n",
        "class Graph:\n",
        " \n",
        "    # Constructor\n",
        "    def __init__(self):\n",
        " \n",
        "        # default dictionary to store graph\n",
        "        self.graph = defaultdict(list)\n",
        " \n",
        "    # function to add an edge to graph\n",
        "    def addEdge(self,u,v):\n",
        "        self.graph[u].append(v)\n",
        " \n",
        "    # Function to print a BFS of graph\n",
        "    def BFS(self, s):\n",
        " \n",
        "        # Mark all the vertices as not visited\n",
        "        visited = [False] * (len(self.graph))\n",
        " \n",
        "        # Create a queue for BFS\n",
        "        queue = []\n",
        " \n",
        "        # Mark the source node as\n",
        "        # visited and enqueue it\n",
        "        queue.append(s)\n",
        "        visited[s] = True\n",
        " \n",
        "        while queue:\n",
        " \n",
        "            # Dequeue a vertex from\n",
        "            # queue and print it\n",
        "            s = queue.pop(0)\n",
        "            print (s, end = \" \")\n",
        " \n",
        "            # Get all adjacent vertices of the\n",
        "            # dequeued vertex s. If a adjacent\n",
        "            # has not been visited, then mark it\n",
        "            # visited and enqueue it\n",
        "            for i in self.graph[s]:\n",
        "                if visited[i] == False:\n",
        "                    queue.append(i)\n",
        "                    visited[i] = True\n",
        " \n",
        "# Driver code\n",
        " \n",
        "# Create a graph given in\n",
        "# the above diagram\n",
        "g = Graph()\n",
        "g.addEdge(0, 1)\n",
        "g.addEdge(0, 2)\n",
        "g.addEdge(1, 2)\n",
        "g.addEdge(2, 0)\n",
        "g.addEdge(2, 3)\n",
        "g.addEdge(3, 3)\n",
        " \n",
        "print (\"Following is Breadth First Traversal\"\n",
        "                  \" (starting from vertex 2)\")\n",
        "g.BFS(2)"
      ],
      "metadata": {
        "colab": {
          "base_uri": "https://localhost:8080/"
        },
        "id": "OPdw5SivRs57",
        "outputId": "88b691f3-dc0e-478e-d873-2e974420e306"
      },
      "execution_count": null,
      "outputs": [
        {
          "output_type": "stream",
          "name": "stdout",
          "text": [
            "Following is Breadth First Traversal (starting from vertex 2)\n",
            "2 0 3 1 "
          ]
        }
      ]
    }
  ]
}